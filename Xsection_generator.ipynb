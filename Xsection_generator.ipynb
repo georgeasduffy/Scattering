{
 "metadata": {
  "name": "",
  "signature": "sha256:55b3cee3aa4952fec737581fdc7ab77a371bcac2717b5fffdddfbfe11c75d573"
 },
 "nbformat": 3,
 "nbformat_minor": 0,
 "worksheets": [
  {
   "cells": [
    {
     "cell_type": "code",
     "collapsed": false,
     "input": [
      "%matplotlib inline\n",
      "import matplotlib.pyplot as plt\n",
      "from pytmatrix.tmatrix import Scatterer\n",
      "from pytmatrix.psd import PSDIntegrator, GammaPSD, BinnedPSD\n",
      "from pytmatrix import orientation, radar, tmatrix_aux, refractive\n",
      "import numpy as np\n",
      "import scipy.io as sio \n",
      "import pandas\n",
      "import pdb"
     ],
     "language": "python",
     "metadata": {},
     "outputs": [
      {
       "ename": "ImportError",
       "evalue": "No module named pytmatrix.tmatrix",
       "output_type": "pyerr",
       "traceback": [
        "\u001b[0;31m---------------------------------------------------------------------------\u001b[0m\n\u001b[0;31mImportError\u001b[0m                               Traceback (most recent call last)",
        "\u001b[0;32m<ipython-input-1-c368a295d89b>\u001b[0m in \u001b[0;36m<module>\u001b[0;34m()\u001b[0m\n\u001b[1;32m      1\u001b[0m \u001b[0mget_ipython\u001b[0m\u001b[0;34m(\u001b[0m\u001b[0;34m)\u001b[0m\u001b[0;34m.\u001b[0m\u001b[0mmagic\u001b[0m\u001b[0;34m(\u001b[0m\u001b[0;34mu'matplotlib inline'\u001b[0m\u001b[0;34m)\u001b[0m\u001b[0;34m\u001b[0m\u001b[0m\n\u001b[1;32m      2\u001b[0m \u001b[0;32mimport\u001b[0m \u001b[0mmatplotlib\u001b[0m\u001b[0;34m.\u001b[0m\u001b[0mpyplot\u001b[0m \u001b[0;32mas\u001b[0m \u001b[0mplt\u001b[0m\u001b[0;34m\u001b[0m\u001b[0m\n\u001b[0;32m----> 3\u001b[0;31m \u001b[0;32mfrom\u001b[0m \u001b[0mpytmatrix\u001b[0m\u001b[0;34m.\u001b[0m\u001b[0mtmatrix\u001b[0m \u001b[0;32mimport\u001b[0m \u001b[0mScatterer\u001b[0m\u001b[0;34m\u001b[0m\u001b[0m\n\u001b[0m\u001b[1;32m      4\u001b[0m \u001b[0;32mfrom\u001b[0m \u001b[0mpytmatrix\u001b[0m\u001b[0;34m.\u001b[0m\u001b[0mpsd\u001b[0m \u001b[0;32mimport\u001b[0m \u001b[0mPSDIntegrator\u001b[0m\u001b[0;34m,\u001b[0m \u001b[0mGammaPSD\u001b[0m\u001b[0;34m,\u001b[0m \u001b[0mBinnedPSD\u001b[0m\u001b[0;34m\u001b[0m\u001b[0m\n\u001b[1;32m      5\u001b[0m \u001b[0;32mfrom\u001b[0m \u001b[0mpytmatrix\u001b[0m \u001b[0;32mimport\u001b[0m \u001b[0morientation\u001b[0m\u001b[0;34m,\u001b[0m \u001b[0mradar\u001b[0m\u001b[0;34m,\u001b[0m \u001b[0mtmatrix_aux\u001b[0m\u001b[0;34m,\u001b[0m \u001b[0mrefractive\u001b[0m\u001b[0;34m\u001b[0m\u001b[0m\n",
        "\u001b[0;31mImportError\u001b[0m: No module named pytmatrix.tmatrix"
       ]
      }
     ],
     "prompt_number": 1
    },
    {
     "cell_type": "code",
     "collapsed": false,
     "input": [
      "def mix(a, b, d, ar):\n",
      "    # a, d in cgs, use bruggeman equation\n",
      "    m = a*d**b\n",
      "    v = (1./6.)*ar*(d)**3*np.pi\n",
      "    density = m/v\n",
      "    n = 1.782\n",
      "    kappa = complex(0, 7.302*10**-3)\n",
      "    IceDens = .917\n",
      "    e1 = n**2 - kappa**2\n",
      "    e2 = 2*n*kappa\n",
      "    B = e1 + e2\n",
      "    f = density/IceDens\n",
      "    mixed = (B*(1+2*f)-(2*f-2))/((2+f)+B*(1-f))\n",
      "    e1out = np.real(mixed)\n",
      "    e2out = np.imag(mixed)\n",
      "    nout = np.sqrt((np.sqrt(e1out**2 +e2out**2)+e1out)/2)\n",
      "    kout = np.sqrt((np.sqrt(e1out**2 +e2out**2)-e1out)/2)\n",
      "    m =complex(nout, kout)\n",
      "    return m\n"
     ],
     "language": "python",
     "metadata": {},
     "outputs": []
    },
    {
     "cell_type": "code",
     "collapsed": false,
     "input": [
      "\n",
      "ar = np.linspace(0.2,1, num = 10)\n",
      "b = np.linspace(1.8, 3, num = 10)\n",
      "a = np.linspace(0.002, 0.012, num = 10) \n",
      "d = np.logspace(-2, 2, num = 1000) #mm\n",
      "wave = np.logspace(-3, 3, num = 1000)\n",
      "backscat = np.empty(10, 10, 10, 1000, 1000)\n",
      "\n",
      "Z = (.176/.93*(6/(np.pi)/.917)**2*nconc*(.004*(dbase*0.1)**2.1)**2)*10**6;\n",
      "Rayleigh = 10*np.log10(Z)"
     ],
     "language": "python",
     "metadata": {},
     "outputs": []
    },
    {
     "cell_type": "code",
     "collapsed": false,
     "input": [
      "for i in range(len(a)):\n",
      "    for j in range(len(b)):\n",
      "        for k in range(len(ar)):\n",
      "            for l in range(len(d)):\n",
      "                for n in range(len(wave)):\n",
      "                     dmod = d[l] * (ar[k]**(1./3.))\n",
      "                     newm = mix(a[i], b[j], d[l]*0.1, ar[k])\n",
      "                     oblate = Scatterer(radius = dmod/2., wavelength = wave[n], m = newm, axis_ratio = 1/ar[k])\n",
      "                     backscat[i,j,k,l,n] = oblate\n",
      "\n",
      "    "
     ],
     "language": "python",
     "metadata": {},
     "outputs": []
    }
   ],
   "metadata": {}
  }
 ]
}