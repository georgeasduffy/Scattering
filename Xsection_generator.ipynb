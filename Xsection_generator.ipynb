{
 "metadata": {
  "name": "",
  "signature": "sha256:55b3cee3aa4952fec737581fdc7ab77a371bcac2717b5fffdddfbfe11c75d573"
 },
 "nbformat": 3,
 "nbformat_minor": 0,
 "worksheets": [
  {
   "cells": [
    {
     "cell_type": "code",
     "collapsed": false,
     "input": [
      "from pytmatrix.tmatrix import Scatterer\n",
      "from pytmatrix.psd import PSDIntegrator, GammaPSD, BinnedPSD\n",
      "from pytmatrix import orientation, radar, tmatrix_aux, refractive\n",
      "import numpy as np\n",
      "import scipy.io as sio \n"
     ],
     "language": "python",
     "metadata": {},
     "outputs": [],
     "prompt_number": 1
    },
    {
     "cell_type": "code",
     "collapsed": false,
     "input": [
      "def mix(density):\n",
      "    n = 1.782\n",
      "    kappa = complex(0, 7.302*10**-3)\n",
      "    IceDens = .917\n",
      "    e1 = n**2 - kappa**2\n",
      "    e2 = 2*n*kappa\n",
      "    B = e1 + e2\n",
      "    f = density/IceDens\n",
      "    mixed = (B*(1+2*f)-(2*f-2))/((2+f)+B*(1-f))\n",
      "    e1out = np.real(mixed)\n",
      "    e2out = np.imag(mixed)\n",
      "    nout = np.sqrt((np.sqrt(e1out**2 +e2out**2)+e1out)/2)\n",
      "    kout = np.sqrt((np.sqrt(e1out**2 +e2out**2)-e1out)/2)\n",
      "    m =complex(nout, kout)\n",
      "    return m"
     ],
     "language": "python",
     "metadata": {},
     "outputs": [],
     "prompt_number": 2
    },
    {
     "cell_type": "code",
     "collapsed": false,
     "input": [
      "from_matlab = sio.loadmat('to_Xsec_generator.mat')\n",
      "bins_mid = from_matlab['bins_mid'].ravel()\n",
      "bins_edge = from_matlab['bins_end'].ravel()\n",
      "bins_diff = from_matlab['bins_diff'].ravel()\n",
      "size_dist = from_matlab['goodsd'][:,:]\n",
      "\n",
      "bees = np.array([1.8, 1.9, 2, 2.1, 2.2, 2.3]);\n",
      "a1 = 0.004;\n",
      "ars = np.array([0.2, 0.3, 0.4, 0.5, 0.6, 0.7, 0.8, 0.9, 1])\n",
      "Ku_lambda = .02204;\n",
      "Ka_lambda = .008445;\n"
     ],
     "language": "python",
     "metadata": {},
     "outputs": [],
     "prompt_number": 3
    },
    {
     "cell_type": "code",
     "collapsed": false,
     "input": [],
     "language": "python",
     "metadata": {},
     "outputs": []
    }
   ],
   "metadata": {}
  }
 ]
}